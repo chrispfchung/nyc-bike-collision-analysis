{
 "cells": [
  {
   "cell_type": "markdown",
   "metadata": {},
   "source": [
    "## First let's set up our bike crashes file"
   ]
  },
  {
   "cell_type": "code",
   "execution_count": 1,
   "metadata": {
    "scrolled": true
   },
   "outputs": [
    {
     "name": "stdout",
     "output_type": "stream",
     "text": [
      "<class 'pandas.core.frame.DataFrame'>\n",
      "RangeIndex: 2510 entries, 0 to 2509\n",
      "Data columns (total 11 columns):\n",
      "CRASH DATE                       2510 non-null datetime64[ns]\n",
      "CRASH TIME                       2510 non-null object\n",
      "LATITUDE                         2413 non-null float64\n",
      "LONGITUDE                        2413 non-null float64\n",
      "LOCATION                         2413 non-null object\n",
      "NUMBER OF CYCLIST INJURED        2510 non-null int64\n",
      "NUMBER OF CYCLIST KILLED         2510 non-null int64\n",
      "CONTRIBUTING FACTOR VEHICLE 1    2501 non-null object\n",
      "CONTRIBUTING FACTOR VEHICLE 2    2104 non-null object\n",
      "VEHICLE TYPE CODE 1              2489 non-null object\n",
      "VEHICLE TYPE CODE 2              2008 non-null object\n",
      "dtypes: datetime64[ns](1), float64(2), int64(2), object(6)\n",
      "memory usage: 215.8+ KB\n"
     ]
    }
   ],
   "source": [
    "import pandas as pd\n",
    "\n",
    "file = 'janfebnyccrashes.xlsx' #excel file with january/february accidents\n",
    "df = pd.read_excel(file)\n",
    "\n",
    "df.info() #2000-2500 accidents total including car to car collisions."
   ]
  },
  {
   "cell_type": "code",
   "execution_count": 2,
   "metadata": {},
   "outputs": [],
   "source": [
    "## Let's get only the rows with cyclists involved\n",
    "\n",
    "#all accidents involving bikes, anything above 0 \n",
    "df = df[(df['NUMBER OF CYCLIST INJURED'] > 0) | (df['NUMBER OF CYCLIST KILLED'] > 0)] \n",
    "\n",
    "df = df.reset_index(drop=True) # drop index and create dataframe"
   ]
  },
  {
   "cell_type": "code",
   "execution_count": 3,
   "metadata": {},
   "outputs": [
    {
     "name": "stdout",
     "output_type": "stream",
     "text": [
      "<class 'pandas.core.frame.DataFrame'>\n",
      "RangeIndex: 72 entries, 0 to 71\n",
      "Data columns (total 11 columns):\n",
      "CRASH DATE                       72 non-null datetime64[ns]\n",
      "CRASH TIME                       72 non-null object\n",
      "LATITUDE                         70 non-null float64\n",
      "LONGITUDE                        70 non-null float64\n",
      "LOCATION                         70 non-null object\n",
      "NUMBER OF CYCLIST INJURED        72 non-null int64\n",
      "NUMBER OF CYCLIST KILLED         72 non-null int64\n",
      "CONTRIBUTING FACTOR VEHICLE 1    72 non-null object\n",
      "CONTRIBUTING FACTOR VEHICLE 2    69 non-null object\n",
      "VEHICLE TYPE CODE 1              72 non-null object\n",
      "VEHICLE TYPE CODE 2              66 non-null object\n",
      "dtypes: datetime64[ns](1), float64(2), int64(2), object(6)\n",
      "memory usage: 6.3+ KB\n"
     ]
    }
   ],
   "source": [
    "df.info() # 72 data points, and some missing data"
   ]
  },
  {
   "cell_type": "code",
   "execution_count": 6,
   "metadata": {},
   "outputs": [],
   "source": [
    "df = df[df['VEHICLE TYPE CODE 2'].notna()]\n",
    "df = df[df['LOCATION'].notna()] # if no location, then drop it"
   ]
  },
  {
   "cell_type": "code",
   "execution_count": 8,
   "metadata": {},
   "outputs": [
    {
     "data": {
      "text/plain": [
       "['crash_date',\n",
       " 'crash_time',\n",
       " 'latitude',\n",
       " 'longitude',\n",
       " 'location',\n",
       " 'number_of_cyclist_injured',\n",
       " 'number_of_cyclist_killed',\n",
       " 'contributing_factor_vehicle_1',\n",
       " 'contributing_factor_vehicle_2',\n",
       " 'vehicle_type_code_1',\n",
       " 'vehicle_type_code_2']"
      ]
     },
     "execution_count": 8,
     "metadata": {},
     "output_type": "execute_result"
    }
   ],
   "source": [
    "# clean up column titles for easier accessiblity\n",
    "df.columns = [x.lower() for x in df.columns] # lower case columns\n",
    "df.columns = [x.replace(' ', '_').lower() for x in df.columns] #replace spaces with '_' for accessibility\n",
    "list(df.columns)"
   ]
  },
  {
   "cell_type": "code",
   "execution_count": 9,
   "metadata": {},
   "outputs": [
    {
     "data": {
      "text/plain": [
       "(65, 11)"
      ]
     },
     "execution_count": 9,
     "metadata": {},
     "output_type": "execute_result"
    }
   ],
   "source": [
    "df.shape # 65 rows, 11 features"
   ]
  },
  {
   "cell_type": "markdown",
   "metadata": {},
   "source": [
    "## Now subset only crash related details excluding location"
   ]
  },
  {
   "cell_type": "code",
   "execution_count": 10,
   "metadata": {},
   "outputs": [],
   "source": [
    "# Let's get the accidents in each tooltip\n",
    "## We'll remove the coordinates (they'll be used in a future analysis)\n",
    "accidents_info_df = df[['crash_date','crash_time','number_of_cyclist_injured','number_of_cyclist_killed',\n",
    "                        'contributing_factor_vehicle_1', 'contributing_factor_vehicle_2', 'vehicle_type_code_1',\n",
    "                       'vehicle_type_code_2']]\n"
   ]
  },
  {
   "cell_type": "code",
   "execution_count": 12,
   "metadata": {},
   "outputs": [
    {
     "data": {
      "text/plain": [
       "(65, 8)"
      ]
     },
     "execution_count": 12,
     "metadata": {},
     "output_type": "execute_result"
    }
   ],
   "source": [
    "accidents_info_df.shape # removed 3 columns related to location coordinates"
   ]
  },
  {
   "cell_type": "markdown",
   "metadata": {},
   "source": [
    "## Querying crash details"
   ]
  },
  {
   "cell_type": "markdown",
   "metadata": {},
   "source": [
    "### How did drivers cause the accidents?"
   ]
  },
  {
   "cell_type": "code",
   "execution_count": 51,
   "metadata": {},
   "outputs": [
    {
     "data": {
      "text/plain": [
       "Driver Inattention/Distraction                           19\n",
       "Unspecified                                              11\n",
       "Passing or Lane Usage Improper                            6\n",
       "Passenger Distraction                                     4\n",
       "Failure to Yield Right-of-Way                             3\n",
       "Pedestrian/Bicyclist/Other Pedestrian Error/Confusion     3\n",
       "Following Too Closely                                     2\n",
       "Turning Improperly                                        2\n",
       "Backing Unsafely                                          2\n",
       "Traffic Control Disregarded                               1\n",
       "Passing Too Closely                                       1\n",
       "Unsafe Lane Changing                                      1\n",
       "Driver Inexperience                                       1\n",
       "Name: contributing_factor_vehicle_1, dtype: int64"
      ]
     },
     "execution_count": 51,
     "metadata": {},
     "output_type": "execute_result"
    }
   ],
   "source": [
    "# query reasons how bikers cause the accidents\n",
    "accidents_info_df[accidents_info_df['vehicle_type_code_2'] == 'Bike']['contributing_factor_vehicle_1'].value_counts()"
   ]
  },
  {
   "cell_type": "markdown",
   "metadata": {},
   "source": [
    "### How did bikers cause the accidents?"
   ]
  },
  {
   "cell_type": "code",
   "execution_count": 16,
   "metadata": {},
   "outputs": [
    {
     "data": {
      "text/plain": [
       "Driver Inattention/Distraction    6\n",
       "Aggressive Driving/Road Rage      1\n",
       "Passing Too Closely               1\n",
       "Unspecified                       1\n",
       "Name: contributing_factor_vehicle_1, dtype: int64"
      ]
     },
     "execution_count": 16,
     "metadata": {},
     "output_type": "execute_result"
    }
   ],
   "source": [
    "accidents_info_df[accidents_info_df['vehicle_type_code_1'] == 'Bike']['contributing_factor_vehicle_1'].value_counts()"
   ]
  },
  {
   "cell_type": "markdown",
   "metadata": {},
   "source": [
    "### How did both parties contribute to the accident?"
   ]
  },
  {
   "cell_type": "code",
   "execution_count": 43,
   "metadata": {},
   "outputs": [
    {
     "data": {
      "text/html": [
       "<div>\n",
       "<style scoped>\n",
       "    .dataframe tbody tr th:only-of-type {\n",
       "        vertical-align: middle;\n",
       "    }\n",
       "\n",
       "    .dataframe tbody tr th {\n",
       "        vertical-align: top;\n",
       "    }\n",
       "\n",
       "    .dataframe thead th {\n",
       "        text-align: right;\n",
       "    }\n",
       "</style>\n",
       "<table border=\"1\" class=\"dataframe\">\n",
       "  <thead>\n",
       "    <tr style=\"text-align: right;\">\n",
       "      <th></th>\n",
       "      <th>contributing_factor_vehicle_1</th>\n",
       "      <th>contributing_factor_vehicle_2</th>\n",
       "      <th>vehicle_type_code_1</th>\n",
       "      <th>vehicle_type_code_2</th>\n",
       "    </tr>\n",
       "  </thead>\n",
       "  <tbody>\n",
       "    <tr>\n",
       "      <th>0</th>\n",
       "      <td>Driver Inattention/Distraction</td>\n",
       "      <td>Driver Inattention/Distraction</td>\n",
       "      <td>Bike</td>\n",
       "      <td>Sedan</td>\n",
       "    </tr>\n",
       "    <tr>\n",
       "      <th>1</th>\n",
       "      <td>Turning Improperly</td>\n",
       "      <td>Pedestrian/Bicyclist/Other Pedestrian Error/Co...</td>\n",
       "      <td>Station Wagon/Sport Utility Vehicle</td>\n",
       "      <td>Bike</td>\n",
       "    </tr>\n",
       "    <tr>\n",
       "      <th>2</th>\n",
       "      <td>Backing Unsafely</td>\n",
       "      <td>Passing Too Closely</td>\n",
       "      <td>Sedan</td>\n",
       "      <td>Bike</td>\n",
       "    </tr>\n",
       "    <tr>\n",
       "      <th>3</th>\n",
       "      <td>Passenger Distraction</td>\n",
       "      <td>Pedestrian/Bicyclist/Other Pedestrian Error/Co...</td>\n",
       "      <td>Taxi</td>\n",
       "      <td>Bike</td>\n",
       "    </tr>\n",
       "    <tr>\n",
       "      <th>4</th>\n",
       "      <td>Pedestrian/Bicyclist/Other Pedestrian Error/Co...</td>\n",
       "      <td>Pedestrian/Bicyclist/Other Pedestrian Error/Co...</td>\n",
       "      <td>Taxi</td>\n",
       "      <td>Bike</td>\n",
       "    </tr>\n",
       "    <tr>\n",
       "      <th>5</th>\n",
       "      <td>Driver Inattention/Distraction</td>\n",
       "      <td>Driver Inattention/Distraction</td>\n",
       "      <td>Sedan</td>\n",
       "      <td>Bike</td>\n",
       "    </tr>\n",
       "    <tr>\n",
       "      <th>6</th>\n",
       "      <td>Backing Unsafely</td>\n",
       "      <td>Following Too Closely</td>\n",
       "      <td>Station Wagon/Sport Utility Vehicle</td>\n",
       "      <td>Bike</td>\n",
       "    </tr>\n",
       "    <tr>\n",
       "      <th>7</th>\n",
       "      <td>Driver Inattention/Distraction</td>\n",
       "      <td>Failure to Yield Right-of-Way</td>\n",
       "      <td>Taxi</td>\n",
       "      <td>Bike</td>\n",
       "    </tr>\n",
       "    <tr>\n",
       "      <th>8</th>\n",
       "      <td>Driver Inattention/Distraction</td>\n",
       "      <td>Driver Inattention/Distraction</td>\n",
       "      <td>Bike</td>\n",
       "      <td>Sedan</td>\n",
       "    </tr>\n",
       "    <tr>\n",
       "      <th>9</th>\n",
       "      <td>Driver Inattention/Distraction</td>\n",
       "      <td>Driver Inattention/Distraction</td>\n",
       "      <td>Taxi</td>\n",
       "      <td>Bike</td>\n",
       "    </tr>\n",
       "    <tr>\n",
       "      <th>10</th>\n",
       "      <td>Driver Inattention/Distraction</td>\n",
       "      <td>Driver Inattention/Distraction</td>\n",
       "      <td>Bus</td>\n",
       "      <td>Bike</td>\n",
       "    </tr>\n",
       "    <tr>\n",
       "      <th>11</th>\n",
       "      <td>Driver Inattention/Distraction</td>\n",
       "      <td>Driver Inattention/Distraction</td>\n",
       "      <td>Bike</td>\n",
       "      <td>Sedan</td>\n",
       "    </tr>\n",
       "    <tr>\n",
       "      <th>12</th>\n",
       "      <td>Pedestrian/Bicyclist/Other Pedestrian Error/Co...</td>\n",
       "      <td>Driver Inattention/Distraction</td>\n",
       "      <td>Station Wagon/Sport Utility Vehicle</td>\n",
       "      <td>Bike</td>\n",
       "    </tr>\n",
       "    <tr>\n",
       "      <th>13</th>\n",
       "      <td>Driver Inattention/Distraction</td>\n",
       "      <td>Driver Inattention/Distraction</td>\n",
       "      <td>Station Wagon/Sport Utility Vehicle</td>\n",
       "      <td>Bike</td>\n",
       "    </tr>\n",
       "  </tbody>\n",
       "</table>\n",
       "</div>"
      ],
      "text/plain": [
       "                        contributing_factor_vehicle_1  \\\n",
       "0                      Driver Inattention/Distraction   \n",
       "1                                  Turning Improperly   \n",
       "2                                    Backing Unsafely   \n",
       "3                               Passenger Distraction   \n",
       "4   Pedestrian/Bicyclist/Other Pedestrian Error/Co...   \n",
       "5                      Driver Inattention/Distraction   \n",
       "6                                    Backing Unsafely   \n",
       "7                      Driver Inattention/Distraction   \n",
       "8                      Driver Inattention/Distraction   \n",
       "9                      Driver Inattention/Distraction   \n",
       "10                     Driver Inattention/Distraction   \n",
       "11                     Driver Inattention/Distraction   \n",
       "12  Pedestrian/Bicyclist/Other Pedestrian Error/Co...   \n",
       "13                     Driver Inattention/Distraction   \n",
       "\n",
       "                        contributing_factor_vehicle_2  \\\n",
       "0                      Driver Inattention/Distraction   \n",
       "1   Pedestrian/Bicyclist/Other Pedestrian Error/Co...   \n",
       "2                                 Passing Too Closely   \n",
       "3   Pedestrian/Bicyclist/Other Pedestrian Error/Co...   \n",
       "4   Pedestrian/Bicyclist/Other Pedestrian Error/Co...   \n",
       "5                      Driver Inattention/Distraction   \n",
       "6                               Following Too Closely   \n",
       "7                       Failure to Yield Right-of-Way   \n",
       "8                      Driver Inattention/Distraction   \n",
       "9                      Driver Inattention/Distraction   \n",
       "10                     Driver Inattention/Distraction   \n",
       "11                     Driver Inattention/Distraction   \n",
       "12                     Driver Inattention/Distraction   \n",
       "13                     Driver Inattention/Distraction   \n",
       "\n",
       "                    vehicle_type_code_1 vehicle_type_code_2  \n",
       "0                                  Bike               Sedan  \n",
       "1   Station Wagon/Sport Utility Vehicle                Bike  \n",
       "2                                 Sedan                Bike  \n",
       "3                                  Taxi                Bike  \n",
       "4                                  Taxi                Bike  \n",
       "5                                 Sedan                Bike  \n",
       "6   Station Wagon/Sport Utility Vehicle                Bike  \n",
       "7                                  Taxi                Bike  \n",
       "8                                  Bike               Sedan  \n",
       "9                                  Taxi                Bike  \n",
       "10                                  Bus                Bike  \n",
       "11                                 Bike               Sedan  \n",
       "12  Station Wagon/Sport Utility Vehicle                Bike  \n",
       "13  Station Wagon/Sport Utility Vehicle                Bike  "
      ]
     },
     "execution_count": 43,
     "metadata": {},
     "output_type": "execute_result"
    }
   ],
   "source": [
    "both_parties_df = accidents_info_df[(accidents_info_df['contributing_factor_vehicle_1'] != 'Unspecified') & \n",
    "                  (accidents_info_df['contributing_factor_vehicle_2'] != 'Unspecified')][[\n",
    "    'contributing_factor_vehicle_1','contributing_factor_vehicle_2', 'vehicle_type_code_1', 'vehicle_type_code_2']].reset_index(drop=True)\n",
    "both_parties_df"
   ]
  },
  {
   "cell_type": "markdown",
   "metadata": {},
   "source": [
    "### How did taxi drivers cause the accidents?"
   ]
  },
  {
   "cell_type": "code",
   "execution_count": 14,
   "metadata": {},
   "outputs": [
    {
     "data": {
      "text/plain": [
       "Driver Inattention/Distraction                           6\n",
       "Passing or Lane Usage Improper                           4\n",
       "Unspecified                                              3\n",
       "Following Too Closely                                    2\n",
       "Passenger Distraction                                    2\n",
       "Pedestrian/Bicyclist/Other Pedestrian Error/Confusion    2\n",
       "Traffic Control Disregarded                              1\n",
       "Name: contributing_factor_vehicle_1, dtype: int64"
      ]
     },
     "execution_count": 14,
     "metadata": {},
     "output_type": "execute_result"
    }
   ],
   "source": [
    "#query reasons how taxis cause the accdients\n",
    "accidents_info_df[(accidents_info_df['vehicle_type_code_1'] == 'Taxi')]['contributing_factor_vehicle_1'].value_counts()"
   ]
  },
  {
   "cell_type": "markdown",
   "metadata": {},
   "source": [
    "### Let's compare this to Sedans"
   ]
  },
  {
   "cell_type": "code",
   "execution_count": 47,
   "metadata": {},
   "outputs": [
    {
     "data": {
      "text/plain": [
       "Unspecified                                              6\n",
       "Driver Inattention/Distraction                           4\n",
       "Failure to Yield Right-of-Way                            1\n",
       "Turning Improperly                                       1\n",
       "Passing or Lane Usage Improper                           1\n",
       "Backing Unsafely                                         1\n",
       "Passenger Distraction                                    1\n",
       "Pedestrian/Bicyclist/Other Pedestrian Error/Confusion    1\n",
       "Name: contributing_factor_vehicle_1, dtype: int64"
      ]
     },
     "execution_count": 47,
     "metadata": {},
     "output_type": "execute_result"
    }
   ],
   "source": [
    "#query reasons how sedans cause the accdients\n",
    "accidents_info_df[(accidents_info_df['vehicle_type_code_1'] == 'Station Wagon/Sport Utility Vehicle')]['contributing_factor_vehicle_1'].value_counts()"
   ]
  },
  {
   "cell_type": "markdown",
   "metadata": {},
   "source": [
    "### Were there any bike to bike collisions?"
   ]
  },
  {
   "cell_type": "code",
   "execution_count": 15,
   "metadata": {},
   "outputs": [
    {
     "data": {
      "text/html": [
       "<div>\n",
       "<style scoped>\n",
       "    .dataframe tbody tr th:only-of-type {\n",
       "        vertical-align: middle;\n",
       "    }\n",
       "\n",
       "    .dataframe tbody tr th {\n",
       "        vertical-align: top;\n",
       "    }\n",
       "\n",
       "    .dataframe thead th {\n",
       "        text-align: right;\n",
       "    }\n",
       "</style>\n",
       "<table border=\"1\" class=\"dataframe\">\n",
       "  <thead>\n",
       "    <tr style=\"text-align: right;\">\n",
       "      <th></th>\n",
       "      <th>crash_date</th>\n",
       "      <th>crash_time</th>\n",
       "      <th>latitude</th>\n",
       "      <th>longitude</th>\n",
       "      <th>location</th>\n",
       "      <th>number_of_cyclist_injured</th>\n",
       "      <th>number_of_cyclist_killed</th>\n",
       "      <th>contributing_factor_vehicle_1</th>\n",
       "      <th>contributing_factor_vehicle_2</th>\n",
       "      <th>vehicle_type_code_1</th>\n",
       "      <th>vehicle_type_code_2</th>\n",
       "    </tr>\n",
       "  </thead>\n",
       "  <tbody>\n",
       "    <tr>\n",
       "      <th>34</th>\n",
       "      <td>2020-01-22</td>\n",
       "      <td>13:49:00</td>\n",
       "      <td>40.74881</td>\n",
       "      <td>-74.000946</td>\n",
       "      <td>POINT (-74.000946 40.74881)</td>\n",
       "      <td>1</td>\n",
       "      <td>0</td>\n",
       "      <td>Passing Too Closely</td>\n",
       "      <td>Unspecified</td>\n",
       "      <td>Bike</td>\n",
       "      <td>Bike</td>\n",
       "    </tr>\n",
       "  </tbody>\n",
       "</table>\n",
       "</div>"
      ],
      "text/plain": [
       "   crash_date crash_time  latitude  longitude                     location  \\\n",
       "34 2020-01-22   13:49:00  40.74881 -74.000946  POINT (-74.000946 40.74881)   \n",
       "\n",
       "    number_of_cyclist_injured  number_of_cyclist_killed  \\\n",
       "34                          1                         0   \n",
       "\n",
       "   contributing_factor_vehicle_1 contributing_factor_vehicle_2  \\\n",
       "34           Passing Too Closely                   Unspecified   \n",
       "\n",
       "   vehicle_type_code_1 vehicle_type_code_2  \n",
       "34                Bike                Bike  "
      ]
     },
     "execution_count": 15,
     "metadata": {},
     "output_type": "execute_result"
    }
   ],
   "source": [
    "# Bike to Bike Collisions?\n",
    "df[(df['vehicle_type_code_1'] == 'Bike') & (df['vehicle_type_code_2'] == 'Bike')] # one incident"
   ]
  }
 ],
 "metadata": {
  "kernelspec": {
   "display_name": "Python 3",
   "language": "python",
   "name": "python3"
  },
  "language_info": {
   "codemirror_mode": {
    "name": "ipython",
    "version": 3
   },
   "file_extension": ".py",
   "mimetype": "text/x-python",
   "name": "python",
   "nbconvert_exporter": "python",
   "pygments_lexer": "ipython3",
   "version": "3.6.7"
  }
 },
 "nbformat": 4,
 "nbformat_minor": 2
}
