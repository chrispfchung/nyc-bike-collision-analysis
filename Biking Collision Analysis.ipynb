{
 "cells": [
  {
   "cell_type": "markdown",
   "metadata": {},
   "source": [
    "## First let's clean up our crash file"
   ]
  },
  {
   "cell_type": "code",
   "execution_count": 1,
   "metadata": {
    "scrolled": true
   },
   "outputs": [
    {
     "name": "stdout",
     "output_type": "stream",
     "text": [
      "<class 'pandas.core.frame.DataFrame'>\n",
      "RangeIndex: 2510 entries, 0 to 2509\n",
      "Data columns (total 11 columns):\n",
      "CRASH DATE                       2510 non-null datetime64[ns]\n",
      "CRASH TIME                       2510 non-null object\n",
      "LATITUDE                         2413 non-null float64\n",
      "LONGITUDE                        2413 non-null float64\n",
      "LOCATION                         2413 non-null object\n",
      "NUMBER OF CYCLIST INJURED        2510 non-null int64\n",
      "NUMBER OF CYCLIST KILLED         2510 non-null int64\n",
      "CONTRIBUTING FACTOR VEHICLE 1    2501 non-null object\n",
      "CONTRIBUTING FACTOR VEHICLE 2    2104 non-null object\n",
      "VEHICLE TYPE CODE 1              2489 non-null object\n",
      "VEHICLE TYPE CODE 2              2008 non-null object\n",
      "dtypes: datetime64[ns](1), float64(2), int64(2), object(6)\n",
      "memory usage: 215.8+ KB\n"
     ]
    }
   ],
   "source": [
    "import pandas as pd\n",
    "\n",
    "file = 'janfebnyccrashes.xlsx' #excel file with january/february accidents\n",
    "df = pd.read_excel(file)\n",
    "\n",
    "df.info() #2000-2500 accidents total including car to car collisions."
   ]
  },
  {
   "cell_type": "code",
   "execution_count": 2,
   "metadata": {},
   "outputs": [],
   "source": [
    "## Let's get only the rows with cyclists involved\n",
    "\n",
    "#all accidents involving bikes, anything above 0 \n",
    "df = df[(df['NUMBER OF CYCLIST INJURED'] > 0) | (df['NUMBER OF CYCLIST KILLED'] > 0)] \n",
    "\n",
    "df = df.reset_index(drop=True) # drop index and create dataframe"
   ]
  },
  {
   "cell_type": "code",
   "execution_count": 3,
   "metadata": {},
   "outputs": [
    {
     "name": "stdout",
     "output_type": "stream",
     "text": [
      "<class 'pandas.core.frame.DataFrame'>\n",
      "RangeIndex: 72 entries, 0 to 71\n",
      "Data columns (total 11 columns):\n",
      "CRASH DATE                       72 non-null datetime64[ns]\n",
      "CRASH TIME                       72 non-null object\n",
      "LATITUDE                         70 non-null float64\n",
      "LONGITUDE                        70 non-null float64\n",
      "LOCATION                         70 non-null object\n",
      "NUMBER OF CYCLIST INJURED        72 non-null int64\n",
      "NUMBER OF CYCLIST KILLED         72 non-null int64\n",
      "CONTRIBUTING FACTOR VEHICLE 1    72 non-null object\n",
      "CONTRIBUTING FACTOR VEHICLE 2    69 non-null object\n",
      "VEHICLE TYPE CODE 1              72 non-null object\n",
      "VEHICLE TYPE CODE 2              66 non-null object\n",
      "dtypes: datetime64[ns](1), float64(2), int64(2), object(6)\n",
      "memory usage: 6.3+ KB\n"
     ]
    }
   ],
   "source": [
    "df.info() # 72 data points, and some missing data"
   ]
  },
  {
   "cell_type": "code",
   "execution_count": 6,
   "metadata": {},
   "outputs": [],
   "source": [
    "df = df[df['VEHICLE TYPE CODE 2'].notna()]\n",
    "df = df[df['LOCATION'].notna()] # if no location, then drop it"
   ]
  },
  {
   "cell_type": "code",
   "execution_count": 8,
   "metadata": {},
   "outputs": [
    {
     "data": {
      "text/plain": [
       "['crash_date',\n",
       " 'crash_time',\n",
       " 'latitude',\n",
       " 'longitude',\n",
       " 'location',\n",
       " 'number_of_cyclist_injured',\n",
       " 'number_of_cyclist_killed',\n",
       " 'contributing_factor_vehicle_1',\n",
       " 'contributing_factor_vehicle_2',\n",
       " 'vehicle_type_code_1',\n",
       " 'vehicle_type_code_2']"
      ]
     },
     "execution_count": 8,
     "metadata": {},
     "output_type": "execute_result"
    }
   ],
   "source": [
    "# clean up column titles for easier accessiblity\n",
    "df.columns = [x.lower() for x in df.columns] # lower case columns\n",
    "df.columns = [x.replace(' ', '_').lower() for x in df.columns] #replace spaces with '_' for accessibility\n",
    "list(df.columns)"
   ]
  },
  {
   "cell_type": "code",
   "execution_count": 9,
   "metadata": {},
   "outputs": [
    {
     "data": {
      "text/plain": [
       "(65, 11)"
      ]
     },
     "execution_count": 9,
     "metadata": {},
     "output_type": "execute_result"
    }
   ],
   "source": [
    "df.shape"
   ]
  },
  {
   "cell_type": "code",
   "execution_count": null,
   "metadata": {},
   "outputs": [],
   "source": [
    "# Let's get the accidents in each tooltip\n",
    "accidents_info_df = df[['crash_date','crash_time','number_of_cyclist_injured','number_of_cyclist_killed',\n",
    "                        'contributing_factor_vehicle_1', 'contributing_factor_vehicle_2', 'vehicle_type_code_1',\n",
    "                       'vehicle_type_code_2']]\n"
   ]
  },
  {
   "cell_type": "code",
   "execution_count": null,
   "metadata": {},
   "outputs": [],
   "source": [
    "accidents_info_df.shape"
   ]
  },
  {
   "cell_type": "code",
   "execution_count": null,
   "metadata": {},
   "outputs": [],
   "source": [
    "# query reasons how bikers cause the accidents\n",
    "accidents_info_df[accidents_info_df['vehicle_type_code_2'] == 'Bike']['contributing_factor_vehicle_1'].value_counts()"
   ]
  },
  {
   "cell_type": "code",
   "execution_count": null,
   "metadata": {},
   "outputs": [],
   "source": [
    "#query reasons how taxis cause the accdients\n",
    "accidents_info_df[(accidents_info_df['vehicle_type_code_1'] == 'Taxi')]['contributing_factor_vehicle_1'].value_counts()\n"
   ]
  },
  {
   "cell_type": "code",
   "execution_count": null,
   "metadata": {},
   "outputs": [],
   "source": [
    "# Bike to Bike Collisions?\n",
    "df[(df['vehicle_type_code_1'] == 'Bike') & (df['vehicle_type_code_2'] == 'Bike')] # one incident"
   ]
  },
  {
   "cell_type": "code",
   "execution_count": null,
   "metadata": {},
   "outputs": [],
   "source": []
  }
 ],
 "metadata": {
  "kernelspec": {
   "display_name": "Python 3",
   "language": "python",
   "name": "python3"
  },
  "language_info": {
   "codemirror_mode": {
    "name": "ipython",
    "version": 3
   },
   "file_extension": ".py",
   "mimetype": "text/x-python",
   "name": "python",
   "nbconvert_exporter": "python",
   "pygments_lexer": "ipython3",
   "version": "3.6.7"
  }
 },
 "nbformat": 4,
 "nbformat_minor": 2
}
